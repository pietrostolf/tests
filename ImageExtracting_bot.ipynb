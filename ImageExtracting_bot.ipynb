{
 "cells": [
  {
   "cell_type": "markdown",
   "metadata": {},
   "source": [
    "# Web Scraping Instagram with Selenium - UPDATED!\n",
    "\n",
    "### AUTOMATING IMAGE EXTRACTION\n",
    "\n",
    "This Notebook is an <b>upgraded</b> version of the original Web Scraping Instagram with Selenium notebook.\n",
    "<br>\n",
    "This code is asjusted to fit a wider variety of users and has solutions for the issues that arrised in the comment section on YouTube/ issues section on Github.\n",
    "<br>\n",
    "Also, this code is extracting the <b>full size images</b> and not the <b>thumbnails</b>, and it's a <b>100% automated</b>!\n",
    "\n",
    "Please let me know if you have any other problems that you haven't found a solution for in the comment section of the Youtube tutorial:\n",
    "<br>\n",
    "https://youtu.be/iJGvYBH9mcY"
   ]
  },
  {
   "cell_type": "code",
   "execution_count": 1,
   "metadata": {},
   "outputs": [],
   "source": [
    "#imports here\n",
    "from selenium import webdriver\n",
    "from selenium.webdriver.common.keys import Keys\n",
    "from selenium.webdriver.support import expected_conditions as EC\n",
    "from selenium.webdriver.common.by import By\n",
    "from selenium.webdriver.support.wait import WebDriverWait\n",
    "import time"
   ]
  },
  {
   "cell_type": "code",
   "execution_count": 80,
   "metadata": {},
   "outputs": [
    {
     "name": "stdout",
     "output_type": "stream",
     "text": [
      "Collecting wget\n",
      "  Downloading wget-3.2.zip (10 kB)\n",
      "  Preparing metadata (setup.py): started\n",
      "  Preparing metadata (setup.py): finished with status 'done'\n",
      "Building wheels for collected packages: wget\n",
      "  Building wheel for wget (setup.py): started\n",
      "  Building wheel for wget (setup.py): finished with status 'done'\n",
      "  Created wheel for wget: filename=wget-3.2-py3-none-any.whl size=9675 sha256=9c59abec537cec144553cefd8d19988ad0fc04efa5a175923f58a4db4cd33538\n",
      "  Stored in directory: c:\\users\\victor\\appdata\\local\\pip\\cache\\wheels\\04\\5f\\3e\\46cc37c5d698415694d83f607f833f83f0149e49b3af9d0f38\n",
      "Successfully built wget\n",
      "Installing collected packages: wget\n",
      "Successfully installed wget-3.2\n",
      "Note: you may need to restart the kernel to use updated packages.\n"
     ]
    }
   ],
   "source": [
    "pip install wget"
   ]
  },
  {
   "cell_type": "markdown",
   "metadata": {},
   "source": [
    "## Download ChromeDriver\n",
    "Now we need to download latest stable release of ChromeDriver from:\n",
    "<br>\n",
    "https://chromedriver.chromium.org/\n",
    "<br>\n",
    "## Log In to Your Instagram Account"
   ]
  },
  {
   "cell_type": "code",
   "execution_count": 16,
   "metadata": {},
   "outputs": [],
   "source": [
    "#specify the path to chromedriver.exe (download and save on your computer)\n",
    "driver = webdriver.Chrome()\n",
    "\n",
    "#open the webpage\n",
    "driver.get(\"https://www.instagram.com/accounts/onetap/?next=%2F#\")\n",
    "\n",
    "#target username\n",
    "username = WebDriverWait(driver, 10).until(EC.element_to_be_clickable((By.CSS_SELECTOR, \"input[name='username']\")))\n",
    "password = WebDriverWait(driver, 10).until(EC.element_to_be_clickable((By.CSS_SELECTOR, \"input[name='password']\")))\n",
    "\n",
    "#enter username and password\n",
    "username.clear()\n",
    "username.send_keys(\"pietrostolf\")\n",
    "password.clear()\n",
    "password.send_keys(\"14049414Pp\")\n",
    "\n",
    "#target the login button and click it\n",
    "button = WebDriverWait(driver, 2).until(EC.element_to_be_clickable((By.CSS_SELECTOR, \"button[type='submit']\"))).click()\n",
    "\n",
    "#We are logged in!"
   ]
  },
  {
   "cell_type": "code",
   "execution_count": 73,
   "metadata": {},
   "outputs": [],
   "source": [
    "\n",
    "search_button = WebDriverWait(driver, 10).until(EC.element_to_be_clickable((By.CSS_SELECTOR, 'svg[aria-label=\"Search\"]')))\n",
    "\n",
    "search_button.click()\n",
    " "
   ]
  },
  {
   "cell_type": "code",
   "execution_count": 74,
   "metadata": {},
   "outputs": [],
   "source": [
    "#target the search input field\n",
    "searchbox = WebDriverWait(driver, 10).until(EC.element_to_be_clickable((By.XPATH, \"//input[@placeholder='Search']\")))\n",
    "searchbox.clear()\n",
    "\n",
    "#search for the hashtag cat\n",
    "keyword = \"cats\"\n",
    "searchbox.send_keys(keyword)"
   ]
  },
  {
   "cell_type": "code",
   "execution_count": 75,
   "metadata": {},
   "outputs": [],
   "source": [
    "first_result = driver.find_element(By.XPATH, f'//span[text()=\"{keyword}\"]')\n",
    "first_result.click()"
   ]
  },
  {
   "cell_type": "code",
   "execution_count": 76,
   "metadata": {},
   "outputs": [],
   "source": [
    "n_scrolls = 2\n",
    "for j in range(0, n_scrolls):\n",
    "    driver.execute_script(\"window.scrollTo(0, document.body.scrollHeight);\")\n",
    "    time.sleep(5)"
   ]
  },
  {
   "cell_type": "code",
   "execution_count": null,
   "metadata": {},
   "outputs": [],
   "source": [
    "#FIXING THE DOUBLE ENTER\n",
    "time.sleep(5) # Wait for 5 seconds\n",
    "my_link = WebDriverWait(driver, 10).until(EC.element_to_be_clickable((By.XPATH, \"//a[contains(@href, '/\" + keyword[1:] + \"/')]\")))\n",
    "my_link.click()"
   ]
  },
  {
   "cell_type": "code",
   "execution_count": 55,
   "metadata": {},
   "outputs": [],
   "source": [
    "driver.get(\"https://www.instagram.com/accounts/onetap/?next=%2F#\")"
   ]
  },
  {
   "cell_type": "code",
   "execution_count": 14,
   "metadata": {},
   "outputs": [
    {
     "ename": "NameError",
     "evalue": "name 'send_keys' is not defined",
     "output_type": "error",
     "traceback": [
      "\u001b[1;31m---------------------------------------------------------------------------\u001b[0m",
      "\u001b[1;31mNameError\u001b[0m                                 Traceback (most recent call last)",
      "\u001b[1;32m~\\AppData\\Local\\Temp\\ipykernel_11512\\3121103358.py\u001b[0m in \u001b[0;36m<module>\u001b[1;34m\u001b[0m\n\u001b[0;32m      1\u001b[0m \u001b[1;32mfor\u001b[0m \u001b[0m_\u001b[0m \u001b[1;32min\u001b[0m \u001b[0mrange\u001b[0m\u001b[1;33m(\u001b[0m\u001b[1;36m12\u001b[0m\u001b[1;33m)\u001b[0m\u001b[1;33m:\u001b[0m\u001b[1;33m\u001b[0m\u001b[1;33m\u001b[0m\u001b[0m\n\u001b[1;32m----> 2\u001b[1;33m     \u001b[0msend_keys\u001b[0m\u001b[1;33m(\u001b[0m\u001b[0mKeys\u001b[0m\u001b[1;33m.\u001b[0m\u001b[0mTAB\u001b[0m\u001b[1;33m)\u001b[0m\u001b[1;33m\u001b[0m\u001b[1;33m\u001b[0m\u001b[0m\n\u001b[0m",
      "\u001b[1;31mNameError\u001b[0m: name 'send_keys' is not defined"
     ]
    }
   ],
   "source": [
    "for _ in range(12):\n",
    "    send_keys(Keys.TAB)"
   ]
  },
  {
   "cell_type": "markdown",
   "metadata": {},
   "source": [
    "## Handle Alerts\n",
    "\n",
    "you might only get a single alert, or you might get 2 of them\n",
    "<br>\n",
    "please adjust the cell below accordingly"
   ]
  },
  {
   "cell_type": "code",
   "execution_count": 9,
   "metadata": {},
   "outputs": [
    {
     "ename": "TimeoutException",
     "evalue": "Message: \nStacktrace:\n\tGetHandleVerifier [0x00D04DE3+43907]\n\t(No symbol) [0x00C90741]\n\t(No symbol) [0x00B833ED]\n\t(No symbol) [0x00BB6760]\n\t(No symbol) [0x00BB6C2B]\n\t(No symbol) [0x00BE6F62]\n\t(No symbol) [0x00BD2BA4]\n\t(No symbol) [0x00BE55CA]\n\t(No symbol) [0x00BD2956]\n\t(No symbol) [0x00BAE17E]\n\t(No symbol) [0x00BAF32D]\n\tGetHandleVerifier [0x00FB5AF9+2865305]\n\tGetHandleVerifier [0x00FFE78B+3163435]\n\tGetHandleVerifier [0x00FF8441+3138017]\n\tGetHandleVerifier [0x00D8E0F0+605840]\n\t(No symbol) [0x00C9A64C]\n\t(No symbol) [0x00C96638]\n\t(No symbol) [0x00C9675F]\n\t(No symbol) [0x00C88DB7]\n\tBaseThreadInitThunk [0x76BEFCC9+25]\n\tRtlGetAppContainerNamedObjectPath [0x77207C6E+286]\n\tRtlGetAppContainerNamedObjectPath [0x77207C3E+238]\n",
     "output_type": "error",
     "traceback": [
      "\u001b[1;31m---------------------------------------------------------------------------\u001b[0m",
      "\u001b[1;31mTimeoutException\u001b[0m                          Traceback (most recent call last)",
      "\u001b[1;32m~\\AppData\\Local\\Temp\\ipykernel_11512\\1782211048.py\u001b[0m in \u001b[0;36m<module>\u001b[1;34m\u001b[0m\n\u001b[0;32m      1\u001b[0m \u001b[0mtime\u001b[0m\u001b[1;33m.\u001b[0m\u001b[0msleep\u001b[0m\u001b[1;33m(\u001b[0m\u001b[1;36m5\u001b[0m\u001b[1;33m)\u001b[0m\u001b[1;33m\u001b[0m\u001b[1;33m\u001b[0m\u001b[0m\n\u001b[1;32m----> 2\u001b[1;33m \u001b[0malert\u001b[0m \u001b[1;33m=\u001b[0m \u001b[0mWebDriverWait\u001b[0m\u001b[1;33m(\u001b[0m\u001b[0mdriver\u001b[0m\u001b[1;33m,\u001b[0m \u001b[1;36m15\u001b[0m\u001b[1;33m)\u001b[0m\u001b[1;33m.\u001b[0m\u001b[0muntil\u001b[0m\u001b[1;33m(\u001b[0m\u001b[0mEC\u001b[0m\u001b[1;33m.\u001b[0m\u001b[0melement_to_be_clickable\u001b[0m\u001b[1;33m(\u001b[0m\u001b[1;33m(\u001b[0m\u001b[0mBy\u001b[0m\u001b[1;33m.\u001b[0m\u001b[0mXPATH\u001b[0m\u001b[1;33m,\u001b[0m \u001b[1;34m'//button[contains(text(), \"Not Now\")]'\u001b[0m\u001b[1;33m)\u001b[0m\u001b[1;33m)\u001b[0m\u001b[1;33m)\u001b[0m\u001b[1;33m.\u001b[0m\u001b[0mclick\u001b[0m\u001b[1;33m(\u001b[0m\u001b[1;33m)\u001b[0m\u001b[1;33m\u001b[0m\u001b[1;33m\u001b[0m\u001b[0m\n\u001b[0m\u001b[0;32m      3\u001b[0m \u001b[0malert2\u001b[0m \u001b[1;33m=\u001b[0m \u001b[0mWebDriverWait\u001b[0m\u001b[1;33m(\u001b[0m\u001b[0mdriver\u001b[0m\u001b[1;33m,\u001b[0m \u001b[1;36m15\u001b[0m\u001b[1;33m)\u001b[0m\u001b[1;33m.\u001b[0m\u001b[0muntil\u001b[0m\u001b[1;33m(\u001b[0m\u001b[0mEC\u001b[0m\u001b[1;33m.\u001b[0m\u001b[0melement_to_be_clickable\u001b[0m\u001b[1;33m(\u001b[0m\u001b[1;33m(\u001b[0m\u001b[0mBy\u001b[0m\u001b[1;33m.\u001b[0m\u001b[0mXPATH\u001b[0m\u001b[1;33m,\u001b[0m \u001b[1;34m'//button[contains(text(), \"Not Now\")]'\u001b[0m\u001b[1;33m)\u001b[0m\u001b[1;33m)\u001b[0m\u001b[1;33m)\u001b[0m\u001b[1;33m.\u001b[0m\u001b[0mclick\u001b[0m\u001b[1;33m(\u001b[0m\u001b[1;33m)\u001b[0m\u001b[1;33m\u001b[0m\u001b[1;33m\u001b[0m\u001b[0m\n",
      "\u001b[1;32m~\\anaconda3\\lib\\site-packages\\selenium\\webdriver\\support\\wait.py\u001b[0m in \u001b[0;36muntil\u001b[1;34m(self, method, message)\u001b[0m\n\u001b[0;32m     87\u001b[0m             \u001b[1;32mif\u001b[0m \u001b[0mtime\u001b[0m\u001b[1;33m.\u001b[0m\u001b[0mmonotonic\u001b[0m\u001b[1;33m(\u001b[0m\u001b[1;33m)\u001b[0m \u001b[1;33m>\u001b[0m \u001b[0mend_time\u001b[0m\u001b[1;33m:\u001b[0m\u001b[1;33m\u001b[0m\u001b[1;33m\u001b[0m\u001b[0m\n\u001b[0;32m     88\u001b[0m                 \u001b[1;32mbreak\u001b[0m\u001b[1;33m\u001b[0m\u001b[1;33m\u001b[0m\u001b[0m\n\u001b[1;32m---> 89\u001b[1;33m         \u001b[1;32mraise\u001b[0m \u001b[0mTimeoutException\u001b[0m\u001b[1;33m(\u001b[0m\u001b[0mmessage\u001b[0m\u001b[1;33m,\u001b[0m \u001b[0mscreen\u001b[0m\u001b[1;33m,\u001b[0m \u001b[0mstacktrace\u001b[0m\u001b[1;33m)\u001b[0m\u001b[1;33m\u001b[0m\u001b[1;33m\u001b[0m\u001b[0m\n\u001b[0m\u001b[0;32m     90\u001b[0m \u001b[1;33m\u001b[0m\u001b[0m\n\u001b[0;32m     91\u001b[0m     \u001b[1;32mdef\u001b[0m \u001b[0muntil_not\u001b[0m\u001b[1;33m(\u001b[0m\u001b[0mself\u001b[0m\u001b[1;33m,\u001b[0m \u001b[0mmethod\u001b[0m\u001b[1;33m,\u001b[0m \u001b[0mmessage\u001b[0m\u001b[1;33m=\u001b[0m\u001b[1;34m''\u001b[0m\u001b[1;33m)\u001b[0m\u001b[1;33m:\u001b[0m\u001b[1;33m\u001b[0m\u001b[1;33m\u001b[0m\u001b[0m\n",
      "\u001b[1;31mTimeoutException\u001b[0m: Message: \nStacktrace:\n\tGetHandleVerifier [0x00D04DE3+43907]\n\t(No symbol) [0x00C90741]\n\t(No symbol) [0x00B833ED]\n\t(No symbol) [0x00BB6760]\n\t(No symbol) [0x00BB6C2B]\n\t(No symbol) [0x00BE6F62]\n\t(No symbol) [0x00BD2BA4]\n\t(No symbol) [0x00BE55CA]\n\t(No symbol) [0x00BD2956]\n\t(No symbol) [0x00BAE17E]\n\t(No symbol) [0x00BAF32D]\n\tGetHandleVerifier [0x00FB5AF9+2865305]\n\tGetHandleVerifier [0x00FFE78B+3163435]\n\tGetHandleVerifier [0x00FF8441+3138017]\n\tGetHandleVerifier [0x00D8E0F0+605840]\n\t(No symbol) [0x00C9A64C]\n\t(No symbol) [0x00C96638]\n\t(No symbol) [0x00C9675F]\n\t(No symbol) [0x00C88DB7]\n\tBaseThreadInitThunk [0x76BEFCC9+25]\n\tRtlGetAppContainerNamedObjectPath [0x77207C6E+286]\n\tRtlGetAppContainerNamedObjectPath [0x77207C3E+238]\n"
     ]
    }
   ],
   "source": [
    "time.sleep(5)\n",
    "alert = WebDriverWait(driver, 15).until(EC.element_to_be_clickable((By.XPATH, '//button[contains(text(), \"Not Now\")]'))).click()\n",
    "alert2 = WebDriverWait(driver, 15).until(EC.element_to_be_clickable((By.XPATH, '//button[contains(text(), \"Not Now\")]'))).click()"
   ]
  },
  {
   "cell_type": "code",
   "execution_count": 10,
   "metadata": {},
   "outputs": [
    {
     "ename": "TimeoutException",
     "evalue": "Message: \nStacktrace:\n\tGetHandleVerifier [0x00D04DE3+43907]\n\t(No symbol) [0x00C90741]\n\t(No symbol) [0x00B833ED]\n\t(No symbol) [0x00BB6760]\n\t(No symbol) [0x00BB6C2B]\n\t(No symbol) [0x00BE6F62]\n\t(No symbol) [0x00BD2BA4]\n\t(No symbol) [0x00BE55CA]\n\t(No symbol) [0x00BD2956]\n\t(No symbol) [0x00BAE17E]\n\t(No symbol) [0x00BAF32D]\n\tGetHandleVerifier [0x00FB5AF9+2865305]\n\tGetHandleVerifier [0x00FFE78B+3163435]\n\tGetHandleVerifier [0x00FF8441+3138017]\n\tGetHandleVerifier [0x00D8E0F0+605840]\n\t(No symbol) [0x00C9A64C]\n\t(No symbol) [0x00C96638]\n\t(No symbol) [0x00C9675F]\n\t(No symbol) [0x00C88DB7]\n\tBaseThreadInitThunk [0x76BEFCC9+25]\n\tRtlGetAppContainerNamedObjectPath [0x77207C6E+286]\n\tRtlGetAppContainerNamedObjectPath [0x77207C3E+238]\n",
     "output_type": "error",
     "traceback": [
      "\u001b[1;31m---------------------------------------------------------------------------\u001b[0m",
      "\u001b[1;31mTimeoutException\u001b[0m                          Traceback (most recent call last)",
      "\u001b[1;32m~\\AppData\\Local\\Temp\\ipykernel_11512\\580073939.py\u001b[0m in \u001b[0;36m<module>\u001b[1;34m\u001b[0m\n\u001b[1;32m----> 1\u001b[1;33m \u001b[0mbutton\u001b[0m \u001b[1;33m=\u001b[0m \u001b[0mWebDriverWait\u001b[0m\u001b[1;33m(\u001b[0m\u001b[0mdriver\u001b[0m\u001b[1;33m,\u001b[0m \u001b[1;36m15\u001b[0m\u001b[1;33m)\u001b[0m\u001b[1;33m.\u001b[0m\u001b[0muntil\u001b[0m\u001b[1;33m(\u001b[0m\u001b[0mEC\u001b[0m\u001b[1;33m.\u001b[0m\u001b[0melement_to_be_clickable\u001b[0m\u001b[1;33m(\u001b[0m\u001b[1;33m(\u001b[0m\u001b[0mBy\u001b[0m\u001b[1;33m.\u001b[0m\u001b[0mCLASS_NAME\u001b[0m\u001b[1;33m,\u001b[0m \u001b[1;34m\"x1i10hfl xjqpnuy xa49m3k xqeqjp1 x2hbi6w xdl72j9 x2lah0s xe8uvvx xdj266r x11i5rnm xat24cr x1mh8g0r x2lwn1j xeuugli x1hl2dhg xggy1nq x1ja2u2z x1t137rt x1q0g3np x1lku1pv x1a2a7pz x6s0dn4 xjyslct x1ejq31n xd10rxx x1sy0etr x17r0tee x9f619 x1ypdohk x1i0vuye x1f6kntn xwhw2v2 xl56j7k x17ydfre x2b8uid xlyipyv x87ps6o x14atkfc xcdnw81 xjbqb8w xm3z3ea x1x8b98j x131883w x16mih1h x972fbf xcfux6l x1qhh985 xm0m39n xt0psk2 xt7dq6l xexx8yu x4uap5 x18d9i69 xkhd6sd x1n2onr6 x1n5bzlp x173jzuc x1yc6y37\"\u001b[0m\u001b[1;33m)\u001b[0m\u001b[1;33m)\u001b[0m\u001b[1;33m)\u001b[0m\u001b[1;33m\u001b[0m\u001b[1;33m\u001b[0m\u001b[0m\n\u001b[0m",
      "\u001b[1;32m~\\anaconda3\\lib\\site-packages\\selenium\\webdriver\\support\\wait.py\u001b[0m in \u001b[0;36muntil\u001b[1;34m(self, method, message)\u001b[0m\n\u001b[0;32m     87\u001b[0m             \u001b[1;32mif\u001b[0m \u001b[0mtime\u001b[0m\u001b[1;33m.\u001b[0m\u001b[0mmonotonic\u001b[0m\u001b[1;33m(\u001b[0m\u001b[1;33m)\u001b[0m \u001b[1;33m>\u001b[0m \u001b[0mend_time\u001b[0m\u001b[1;33m:\u001b[0m\u001b[1;33m\u001b[0m\u001b[1;33m\u001b[0m\u001b[0m\n\u001b[0;32m     88\u001b[0m                 \u001b[1;32mbreak\u001b[0m\u001b[1;33m\u001b[0m\u001b[1;33m\u001b[0m\u001b[0m\n\u001b[1;32m---> 89\u001b[1;33m         \u001b[1;32mraise\u001b[0m \u001b[0mTimeoutException\u001b[0m\u001b[1;33m(\u001b[0m\u001b[0mmessage\u001b[0m\u001b[1;33m,\u001b[0m \u001b[0mscreen\u001b[0m\u001b[1;33m,\u001b[0m \u001b[0mstacktrace\u001b[0m\u001b[1;33m)\u001b[0m\u001b[1;33m\u001b[0m\u001b[1;33m\u001b[0m\u001b[0m\n\u001b[0m\u001b[0;32m     90\u001b[0m \u001b[1;33m\u001b[0m\u001b[0m\n\u001b[0;32m     91\u001b[0m     \u001b[1;32mdef\u001b[0m \u001b[0muntil_not\u001b[0m\u001b[1;33m(\u001b[0m\u001b[0mself\u001b[0m\u001b[1;33m,\u001b[0m \u001b[0mmethod\u001b[0m\u001b[1;33m,\u001b[0m \u001b[0mmessage\u001b[0m\u001b[1;33m=\u001b[0m\u001b[1;34m''\u001b[0m\u001b[1;33m)\u001b[0m\u001b[1;33m:\u001b[0m\u001b[1;33m\u001b[0m\u001b[1;33m\u001b[0m\u001b[0m\n",
      "\u001b[1;31mTimeoutException\u001b[0m: Message: \nStacktrace:\n\tGetHandleVerifier [0x00D04DE3+43907]\n\t(No symbol) [0x00C90741]\n\t(No symbol) [0x00B833ED]\n\t(No symbol) [0x00BB6760]\n\t(No symbol) [0x00BB6C2B]\n\t(No symbol) [0x00BE6F62]\n\t(No symbol) [0x00BD2BA4]\n\t(No symbol) [0x00BE55CA]\n\t(No symbol) [0x00BD2956]\n\t(No symbol) [0x00BAE17E]\n\t(No symbol) [0x00BAF32D]\n\tGetHandleVerifier [0x00FB5AF9+2865305]\n\tGetHandleVerifier [0x00FFE78B+3163435]\n\tGetHandleVerifier [0x00FF8441+3138017]\n\tGetHandleVerifier [0x00D8E0F0+605840]\n\t(No symbol) [0x00C9A64C]\n\t(No symbol) [0x00C96638]\n\t(No symbol) [0x00C9675F]\n\t(No symbol) [0x00C88DB7]\n\tBaseThreadInitThunk [0x76BEFCC9+25]\n\tRtlGetAppContainerNamedObjectPath [0x77207C6E+286]\n\tRtlGetAppContainerNamedObjectPath [0x77207C3E+238]\n"
     ]
    }
   ],
   "source": [
    "button = WebDriverWait(driver, 15).until(EC.element_to_be_clickable((By.CLASS_NAME, \"x1i10hfl xjqpnuy xa49m3k xqeqjp1 x2hbi6w xdl72j9 x2lah0s xe8uvvx xdj266r x11i5rnm xat24cr x1mh8g0r x2lwn1j xeuugli x1hl2dhg xggy1nq x1ja2u2z x1t137rt x1q0g3np x1lku1pv x1a2a7pz x6s0dn4 xjyslct x1ejq31n xd10rxx x1sy0etr x17r0tee x9f619 x1ypdohk x1i0vuye x1f6kntn xwhw2v2 xl56j7k x17ydfre x2b8uid xlyipyv x87ps6o x14atkfc xcdnw81 xjbqb8w xm3z3ea x1x8b98j x131883w x16mih1h x972fbf xcfux6l x1qhh985 xm0m39n xt0psk2 xt7dq6l xexx8yu x4uap5 x18d9i69 xkhd6sd x1n2onr6 x1n5bzlp x173jzuc x1yc6y37\")))"
   ]
  },
  {
   "cell_type": "markdown",
   "metadata": {},
   "source": [
    "## Search for a certain hashtag"
   ]
  },
  {
   "cell_type": "code",
   "execution_count": 6,
   "metadata": {},
   "outputs": [
    {
     "ename": "TimeoutException",
     "evalue": "Message: \nStacktrace:\n\tGetHandleVerifier [0x00D04DE3+43907]\n\t(No symbol) [0x00C90741]\n\t(No symbol) [0x00B833ED]\n\t(No symbol) [0x00BB6760]\n\t(No symbol) [0x00BB6C2B]\n\t(No symbol) [0x00BE6F62]\n\t(No symbol) [0x00BD2BA4]\n\t(No symbol) [0x00BE55CA]\n\t(No symbol) [0x00BD2956]\n\t(No symbol) [0x00BAE17E]\n\t(No symbol) [0x00BAF32D]\n\tGetHandleVerifier [0x00FB5AF9+2865305]\n\tGetHandleVerifier [0x00FFE78B+3163435]\n\tGetHandleVerifier [0x00FF8441+3138017]\n\tGetHandleVerifier [0x00D8E0F0+605840]\n\t(No symbol) [0x00C9A64C]\n\t(No symbol) [0x00C96638]\n\t(No symbol) [0x00C9675F]\n\t(No symbol) [0x00C88DB7]\n\tBaseThreadInitThunk [0x76BEFCC9+25]\n\tRtlGetAppContainerNamedObjectPath [0x77207C6E+286]\n\tRtlGetAppContainerNamedObjectPath [0x77207C3E+238]\n",
     "output_type": "error",
     "traceback": [
      "\u001b[1;31m---------------------------------------------------------------------------\u001b[0m",
      "\u001b[1;31mTimeoutException\u001b[0m                          Traceback (most recent call last)",
      "\u001b[1;32m~\\AppData\\Local\\Temp\\ipykernel_11512\\1285714030.py\u001b[0m in \u001b[0;36m<module>\u001b[1;34m\u001b[0m\n\u001b[0;32m      1\u001b[0m \u001b[1;31m#target the search input field\u001b[0m\u001b[1;33m\u001b[0m\u001b[1;33m\u001b[0m\u001b[0m\n\u001b[1;32m----> 2\u001b[1;33m \u001b[0msearchbox\u001b[0m \u001b[1;33m=\u001b[0m \u001b[0mWebDriverWait\u001b[0m\u001b[1;33m(\u001b[0m\u001b[0mdriver\u001b[0m\u001b[1;33m,\u001b[0m \u001b[1;36m10\u001b[0m\u001b[1;33m)\u001b[0m\u001b[1;33m.\u001b[0m\u001b[0muntil\u001b[0m\u001b[1;33m(\u001b[0m\u001b[0mEC\u001b[0m\u001b[1;33m.\u001b[0m\u001b[0melement_to_be_clickable\u001b[0m\u001b[1;33m(\u001b[0m\u001b[1;33m(\u001b[0m\u001b[0mBy\u001b[0m\u001b[1;33m.\u001b[0m\u001b[0mXPATH\u001b[0m\u001b[1;33m,\u001b[0m \u001b[1;34m\"//input[@placeholder='Search']\"\u001b[0m\u001b[1;33m)\u001b[0m\u001b[1;33m)\u001b[0m\u001b[1;33m)\u001b[0m\u001b[1;33m\u001b[0m\u001b[1;33m\u001b[0m\u001b[0m\n\u001b[0m\u001b[0;32m      3\u001b[0m \u001b[0msearchbox\u001b[0m\u001b[1;33m.\u001b[0m\u001b[0mclear\u001b[0m\u001b[1;33m(\u001b[0m\u001b[1;33m)\u001b[0m\u001b[1;33m\u001b[0m\u001b[1;33m\u001b[0m\u001b[0m\n\u001b[0;32m      4\u001b[0m \u001b[1;33m\u001b[0m\u001b[0m\n\u001b[0;32m      5\u001b[0m \u001b[1;31m#search for the hashtag cat\u001b[0m\u001b[1;33m\u001b[0m\u001b[1;33m\u001b[0m\u001b[0m\n",
      "\u001b[1;32m~\\anaconda3\\lib\\site-packages\\selenium\\webdriver\\support\\wait.py\u001b[0m in \u001b[0;36muntil\u001b[1;34m(self, method, message)\u001b[0m\n\u001b[0;32m     87\u001b[0m             \u001b[1;32mif\u001b[0m \u001b[0mtime\u001b[0m\u001b[1;33m.\u001b[0m\u001b[0mmonotonic\u001b[0m\u001b[1;33m(\u001b[0m\u001b[1;33m)\u001b[0m \u001b[1;33m>\u001b[0m \u001b[0mend_time\u001b[0m\u001b[1;33m:\u001b[0m\u001b[1;33m\u001b[0m\u001b[1;33m\u001b[0m\u001b[0m\n\u001b[0;32m     88\u001b[0m                 \u001b[1;32mbreak\u001b[0m\u001b[1;33m\u001b[0m\u001b[1;33m\u001b[0m\u001b[0m\n\u001b[1;32m---> 89\u001b[1;33m         \u001b[1;32mraise\u001b[0m \u001b[0mTimeoutException\u001b[0m\u001b[1;33m(\u001b[0m\u001b[0mmessage\u001b[0m\u001b[1;33m,\u001b[0m \u001b[0mscreen\u001b[0m\u001b[1;33m,\u001b[0m \u001b[0mstacktrace\u001b[0m\u001b[1;33m)\u001b[0m\u001b[1;33m\u001b[0m\u001b[1;33m\u001b[0m\u001b[0m\n\u001b[0m\u001b[0;32m     90\u001b[0m \u001b[1;33m\u001b[0m\u001b[0m\n\u001b[0;32m     91\u001b[0m     \u001b[1;32mdef\u001b[0m \u001b[0muntil_not\u001b[0m\u001b[1;33m(\u001b[0m\u001b[0mself\u001b[0m\u001b[1;33m,\u001b[0m \u001b[0mmethod\u001b[0m\u001b[1;33m,\u001b[0m \u001b[0mmessage\u001b[0m\u001b[1;33m=\u001b[0m\u001b[1;34m''\u001b[0m\u001b[1;33m)\u001b[0m\u001b[1;33m:\u001b[0m\u001b[1;33m\u001b[0m\u001b[1;33m\u001b[0m\u001b[0m\n",
      "\u001b[1;31mTimeoutException\u001b[0m: Message: \nStacktrace:\n\tGetHandleVerifier [0x00D04DE3+43907]\n\t(No symbol) [0x00C90741]\n\t(No symbol) [0x00B833ED]\n\t(No symbol) [0x00BB6760]\n\t(No symbol) [0x00BB6C2B]\n\t(No symbol) [0x00BE6F62]\n\t(No symbol) [0x00BD2BA4]\n\t(No symbol) [0x00BE55CA]\n\t(No symbol) [0x00BD2956]\n\t(No symbol) [0x00BAE17E]\n\t(No symbol) [0x00BAF32D]\n\tGetHandleVerifier [0x00FB5AF9+2865305]\n\tGetHandleVerifier [0x00FFE78B+3163435]\n\tGetHandleVerifier [0x00FF8441+3138017]\n\tGetHandleVerifier [0x00D8E0F0+605840]\n\t(No symbol) [0x00C9A64C]\n\t(No symbol) [0x00C96638]\n\t(No symbol) [0x00C9675F]\n\t(No symbol) [0x00C88DB7]\n\tBaseThreadInitThunk [0x76BEFCC9+25]\n\tRtlGetAppContainerNamedObjectPath [0x77207C6E+286]\n\tRtlGetAppContainerNamedObjectPath [0x77207C3E+238]\n"
     ]
    }
   ],
   "source": [
    "#target the search input field\n",
    "searchbox = WebDriverWait(driver, 10).until(EC.element_to_be_clickable((By.XPATH, \"//input[@placeholder='Search']\")))\n",
    "searchbox.clear()\n",
    "\n",
    "#search for the hashtag cat\n",
    "keyword = \"#cat\"\n",
    "searchbox.send_keys(keyword)\n",
    " \n",
    "#FIXING THE DOUBLE ENTER\n",
    "time.sleep(5) # Wait for 5 seconds\n",
    "my_link = WebDriverWait(driver, 10).until(EC.element_to_be_clickable((By.XPATH, \"//a[contains(@href, '/\" + keyword[1:] + \"/')]\")))\n",
    "my_link.click()"
   ]
  },
  {
   "cell_type": "markdown",
   "metadata": {},
   "source": [
    "## Scroll Down\n",
    "<br>\n",
    "Increase n_scrolls to select more photos (depending on screen resolution)\n",
    "<br>\n",
    "<b>Example:</b>\n",
    "<br>\n",
    "<ul>\n",
    "    <li>2 scrolls cover approx. 35 photos</li>\n",
    "    <li>3 scrolls cover approx. 45 photos</li>\n",
    "</ul>"
   ]
  },
  {
   "cell_type": "code",
   "execution_count": 7,
   "metadata": {},
   "outputs": [],
   "source": [
    "#scroll down 2 times\n",
    "#increase the range to sroll more\n",
    "n_scrolls = 2\n",
    "for j in range(0, n_scrolls):\n",
    "    driver.execute_script(\"window.scrollTo(0, document.body.scrollHeight);\")\n",
    "    time.sleep(5)"
   ]
  },
  {
   "cell_type": "code",
   "execution_count": 77,
   "metadata": {},
   "outputs": [
    {
     "name": "stderr",
     "output_type": "stream",
     "text": [
      "C:\\Users\\Victor\\AppData\\Local\\Temp\\ipykernel_11512\\3888087248.py:2: DeprecationWarning: find_elements_by_tag_name is deprecated. Please use find_elements(by=By.TAG_NAME, value=name) instead\n",
      "  anchors = driver.find_elements_by_tag_name('a')\n"
     ]
    },
    {
     "name": "stdout",
     "output_type": "stream",
     "text": [
      "Found 45 links to images\n"
     ]
    },
    {
     "data": {
      "text/plain": [
       "['https://www.instagram.com/p/CzHFq_sKFJN/',\n",
       " 'https://www.instagram.com/p/Cy5j0TvqvBS/',\n",
       " 'https://www.instagram.com/p/CzHOfXdvpqp/',\n",
       " 'https://www.instagram.com/p/CyxRth2RFcs/',\n",
       " 'https://www.instagram.com/p/Cy9hJMlqXuE/']"
      ]
     },
     "execution_count": 77,
     "metadata": {},
     "output_type": "execute_result"
    }
   ],
   "source": [
    "#target all the link elements on the page\n",
    "anchors = driver.find_elements_by_tag_name('a')\n",
    "anchors = [a.get_attribute('href') for a in anchors]\n",
    "#narrow down all links to image links only\n",
    "anchors = [a for a in anchors if str(a).startswith(\"https://www.instagram.com/p/\")]\n",
    "\n",
    "print('Found ' + str(len(anchors)) + ' links to images')\n",
    "anchors[:5]"
   ]
  },
  {
   "cell_type": "code",
   "execution_count": 98,
   "metadata": {},
   "outputs": [
    {
     "name": "stderr",
     "output_type": "stream",
     "text": [
      "C:\\Users\\Victor\\AppData\\Local\\Temp\\ipykernel_11512\\3957248204.py:9: DeprecationWarning: find_element_by_xpath is deprecated. Please use find_element(by=By.XPATH, value=xpath) instead\n",
      "  img_element = driver.find_element_by_xpath('//img[@class=\"x5yr21d xu96u03 x10l6tqk x13vifvy x87ps6o xh8yej3\"]')\n"
     ]
    },
    {
     "data": {
      "text/plain": [
       "['https://scontent-yyz1-1.cdninstagram.com/v/t51.2885-15/399565892_1561991544335003_5640455728342193150_n.jpg?stp=dst-jpg_e15&efg=eyJ2ZW5jb2RlX3RhZyI6ImltYWdlX3VybGdlbi4xMDgweDEzNTAuc2RyIn0&_nc_ht=scontent-yyz1-1.cdninstagram.com&_nc_cat=111&_nc_ohc=uE54Rr6XbnUAX-DmVTg&edm=AAAAAAABAAAA&ccb=7-5&ig_cache_key=MzIzMDI5NDcwMTg0MjkyOTE3OQ%3D%3D.2-ccb7-5&oh=00_AfAIpUFUxnd8IUC_jQsbX2URV6ZOV5vnBum4MBibPXq0Ew&oe=654E8D43&_nc_sid=2c5659',\n",
       " 'https://scontent-yyz1-1.cdninstagram.com/v/t51.2885-15/348226296_987703489308906_9185287746310512889_n.jpg?stp=dst-jpg_e15&efg=eyJ2ZW5jb2RlX3RhZyI6ImltYWdlX3VybGdlbi41NzZ4NzIwLnNkciJ9&_nc_ht=scontent-yyz1-1.cdninstagram.com&_nc_cat=106&_nc_ohc=FHJP5iIxdqMAX9iq4GX&edm=AAAAAAABAAAA&ccb=7-5&ig_cache_key=MzEwNjE0MTEzMzYyODkzMjg5OA%3D%3D.2-ccb7-5&oh=00_AfAUes1r0AI0-VXrwWGTYX_odVzW240FzQi-OKQiNWaePw&oe=654EF65C&_nc_sid=2c5659',\n",
       " 'https://scontent-fra3-1.cdninstagram.com/v/t51.2885-15/397419512_1460263094704750_3593468913366831406_n.jpg?stp=dst-jpg_e35&efg=eyJ2ZW5jb2RlX3RhZyI6ImltYWdlX3VybGdlbi42ODB4ODAzLnNkciJ9&_nc_ht=scontent-fra3-1.cdninstagram.com&_nc_cat=1&_nc_ohc=OFRqTLYAWJoAX9uvSeM&edm=APs17CUBAAAA&ccb=7-5&ig_cache_key=MzIyNjYxMTM4NjE4NDI3NjY0OQ%3D%3D.2-ccb7-5&oh=00_AfCnYCZ5emvrBFI1OLcNPglg3Jw4gPxHSFNit7DHRuKFfg&oe=654E3A1C&_nc_sid=10d13b',\n",
       " 'https://scontent-yyz1-1.cdninstagram.com/v/t51.2885-15/399464462_378042854556326_3571648137544960837_n.jpg?stp=dst-jpg_e15&efg=eyJ2ZW5jb2RlX3RhZyI6ImltYWdlX3VybGdlbi43MjB4NzIwLnNkciJ9&_nc_ht=scontent-yyz1-1.cdninstagram.com&_nc_cat=102&_nc_ohc=oa1lmNwvPo4AX8K_Xi0&edm=AAAAAAABAAAA&ccb=7-5&ig_cache_key=MzIzMDEyMDIzNDgxOTI1MDAxMA%3D%3D.2-ccb7-5&oh=00_AfCQBTKi4h3RizmsvJmKO18NETJvFnKeImSTlkfgySixpA&oe=654DF3D4&_nc_sid=2c5659',\n",
       " 'https://scontent-fra3-1.cdninstagram.com/v/t51.2885-15/396479949_999696914420918_2666328076583095063_n.jpg?stp=dst-jpg_e35&efg=eyJ2ZW5jb2RlX3RhZyI6ImltYWdlX3VybGdlbi42NDB4NjQwLnNkciJ9&_nc_ht=scontent-fra3-1.cdninstagram.com&_nc_cat=1&_nc_ohc=MTXt5KPOvJkAX_lEXNS&edm=APs17CUBAAAA&ccb=7-5&ig_cache_key=MzIyMzg3ODY2MzI0NDY3NTI4Nw%3D%3D.2-ccb7-5&oh=00_AfALTi67pxeS8MQu5v5NTLjuPcj7DLhsOCFInaW-rXcKFA&oe=654ED5DB&_nc_sid=10d13b']"
      ]
     },
     "execution_count": 98,
     "metadata": {},
     "output_type": "execute_result"
    }
   ],
   "source": [
    "images = []\n",
    "\n",
    "#follow each image link and extract only image at index=1\n",
    "for a in anchors:\n",
    "    try:\n",
    "        driver.get(a)\n",
    "        time.sleep(5)\n",
    "        # Find the img element by its attributes\n",
    "        img_element = driver.find_element_by_xpath('//img[@class=\"x5yr21d xu96u03 x10l6tqk x13vifvy x87ps6o xh8yej3\"]')\n",
    "\n",
    "        # Extract the URL from the src attribute\n",
    "        img_url = img_element.get_attribute(\"src\")\n",
    "        images.append(img_url)\n",
    "    except Exception as e:\n",
    "        print(f\"Error: {e}\")\n",
    "        continue\n",
    "    \n",
    "images[:5]    "
   ]
  },
  {
   "cell_type": "code",
   "execution_count": 85,
   "metadata": {},
   "outputs": [
    {
     "data": {
      "text/plain": [
       "['data:image/png;base64,iVBORw0KGgoAAAANSUhEUgAAAJAAAABKCAYAAABU493xAAAS4ElEQVR4Ae3bV39Vd9739/f3vwXGNjOW7yu9eXOl12HSj2Jxn6THdp6ARXo3Tu+I9A6kHiKeQAand+Qc5SiD07s36XUsrmJjo72+WSl6BbCQZV9ze4bM/qzXe/f9Xwv0U9eOl7i//G/5Rz6QvEt3oM3hutNV3LPpe2nrL/6b/2EvY1uLcVN7jTou6fZItn1vbRpjxMvm3Jh2tNdAp9uxvjTL7NLrjz+/N7Px/diaT7xsfXHhtXcBBzKu1XFW8302fX+N+T/cy4b8CKof12b7RW6jXr7tl6dNW16SXnv8xfbjC69sQw2QeiOZlp5tBXDh8Zf/93Pm80PM+K0Lr+zEYpn0EPdO3NcXX2z/9vGnSdR6dfHxlw9w6AXN+1nC0/v67XPnLlvMkPRwXvfgpDWOj+l4XzjwkpS/5G/9B70MxWJ3cMc3tLa+ggMYxl7kOg5ifbW27tAdxxFPFevlCY85TpNbr33x2zdweMLXZZ9iOXF1YX1w4jpxWL2BW9Dk8phy84T9rZp+iHt+yRsjw8sgUw+xwgxoHWL1nBOrxX268/Rznh+eqVs/pTugeYD9xj2sIO21eVB+im0vKPLW8b6O1yAHoLbT3Jw67YxOy6xzn+6Qg2cexzJyZ3Razvwy2xqdvBQN9zCjtu7THentsuephuGEdkCn2699+XgPh55tex6M+0m36Sqmq+IAUsftTl3cTCznx/4EV5xQ0mvaw5iuiAMct6zFfSwXFtfLMpkOY3qPZx83dfHTsN3mGma/vI02XjbfpeqNJtc+v/Dq4czT/t+vd5YQ0xUc+Hr7I+sPATtr69n/tzmutqeR99ZjcTDzlFWn3gbstLZfsK/VSG+DMd6f+WU2jOGl863rKuwFJxnNB4D9WqxmXuD404xF8+7MsWcGbfJg5mvGdA8gce9F+xrro3ugtl/94vPtmV9WYz7xsvn2ZUW8UHoZOvWjmdPQT6BjvD1z7LiJj2dOsrZYAayt785O3KbFOAR48vrFN2Z+WY35xMvm51mslwDTmA5nTtOpK0htzxz7VW04bpOsp8OZ0zzTps0A1WLluMW5yzOnycgSsLLJsAk5gNG+M3MavAM6fTJz7Fe1YZM4uguSd9eZdmZOkozrWELSWzPHflUbNqnFvnoAC4s7sdidOTb/Hmx72Lpe3QOdbrdZzRz7VW3LJpCs3zv+SfHgTpubSR+I7c9feX0Z3YbGPRnXPFfqV7JhE6jFKtZXqndbh0m3saMuJ91uHTb9kL5HPe9XtfzVf8c/ZtPX+6rT5cW03oZTflG76a+Y/5xjY+M72gzQxmaANjYDtLEZoI3NAG1sbAZoYzNAG5sB2tgM0MbGZoA2NgO0sRmgjc0AbWxsBmhjM0AbmwHa2AzQxsZmgDY2A7SxGaCNzQBt/OrKfOIs/XP//e0dIz9ylG0GR/nEV4sDHPq2HW7vmBY/ItvWHs0e4MBL16b0T/+Tndof899eN+XabFtTHTHFjA6m7HviBla+qd/e/sBkz5Q3TlhnpYs93PU76X/+vbetx03rMA1miqkf4Z7fYY//jz9geW6M6zDBtFCcd34PD/2Klfo7nNjuP7O0tfUTUy5rmMbTb+yZ6sjs+PKHuO2k/o9p27kf/ISx8+zQHJ+bDRo6Dny5voqV79Lh77d0ND59Zu0OmpUnj3+MQ75768PlnSa7hKYVk5EaV3Dge+yz8eu3Mo03iInZdPf7Pobx31t6nr9iHp7z4z69TGnRUhStJCiF4Ja6rjzjt88vXXj9p4YdbZnFc+shCNhxbuvfwdJ3rgRKgsLSeO3azHe1PvyD3pXuUo6LJHD0vRtT35HuVncTuzGWM9+n8fwNf9Bf8Tct1X26pBVEERREKBFP11w3jdlg5mfTtjHu4y1KBI/oDaa/0MgVna5hRWlR0kvOnb/Phe2ZbweB9mtDFB+YPt+e+S6SxU3HtaUgbf2iaoVq/SLa8nzpfc0SJFEkEQe4y7SSc9syvaPdFSQoQbNnAjdcfOWOqUsJBQ+cy3tYAUdwwPq237qwp65rS6LT0qI3cdW3rpVES0KLYHrDeO0D3PAtWz/6td2YlppKAj0+j6hfTEGJ1C+g4an+wL/qw+vS5QxQUkw3jPUV5472nT86cP6Ley58eZUnl8jK0wXJdR0/Ie8CJV15Mq54bDXzNVuP99SeiLYC2bXuzsyZAQGUogURumealjPfxphcJzIXiERpS/1iqiCoZqGd+T6N4wt/4F/xVy+N7oEgoHTPmGaTr7n41UpyxbACEZ2KiHdpBemnxrTjtS8PZ17odz26gQMBpIzFnZkzg0ArBXgkOJbFnZkzO/xd1+mSclxbVSp+caVpTUlYS2a+T1trAV5ZXLcuCVNJiU/EDaf1w0crv/HGFfFT7baMUISIYurfg4fOVK9K/hstUvqWqbvYd+aKBKXoXckHGiDdMY0dHPimDi8uxS6VplMatZ+M3YJQdYYeu7g9jN3wduVyMpZtMDrxMXnAdBsrJ3Tk4nUGsyMydLuaSKfK0HcqS7Y6mcIwjK4tPsE9L+hL53a2xtb705QdxrLS8kgWD9rexT6sjSVb7w/DkSkM+Y/92/6Ya3/u0rT4VMMUs+oILmHlLP1v2++Sf15HTKFhGjMf4V3fpv/9125p/rpZTIMpB7jiLH325lL7qWl46t9zRXPdNN42hY7oGdd89IM77dglKhirqdNV2br/1G3Wdeq38cNr7xxl3Kos27QZIYgea8igYw83PNfaK1MjFbropGFoQgfSSkgnCaPNXLOPq57ricWSc3cqOwwVjDbCOD6eTu3DSa5uWXQtB00wqjGGATtSTxXD/mw1cya/7+E96W1KQAXJOzpdnjmzhX2EEMQO4+2Zb4a2lLYCWPcGjYRAdnS8PfNCn/1gqXYDCEbtbUkDCKjTmrx2/WjkXllWiWipzgElAaR7E3dmnlZNi0JFCpFSIkJJQhAwfc0T5y8nW/9+2QGKEpQq0GZuOeR+5d1QRRuaQan3UUqQ1uTuzLeSvCvQ54w7M2e2/X88EAeUY+mVmW8EcSyO23JAZg1QTPszL7RwHdUWcNBMd0FbKtRpjQvXY7pumkQFCg6jn0QO2j5AtaKqBu/jpqcLAVpNZwntlNA5ZglQDfV8T5xbRn+i3gwgSYEpdNV2JYVqBTVdExKoYvxR1373tmGHEijJymI6mDmzn20ff6FZTxckl3Vcmzkz0z0pQNXbyjcCQgu0jlvkqkBJSZam7M18zW+9uiN9XxCh0u7OgEiq1cTJPba17NQ9SVDtLJ+FD4e+GdOPh6MrW45+XP11yaplNG2ayAeTaWdmMjnq0aUji0tr49cnuRRWVUnA4NqXvrr0ZR9f+qq99MR06UnX8/n6w5lji+QOlqJUgvbhMK6N9s2F6dI560u/1SdvVv8isiqEdkpbEGxZnN8xtZJoEfRj36b/4/UlvU4gtJJQqpKIv9vnX+zj0Fma3vxYABHtjmb7TM8Pijz/9j1a6dYeZlAyPpDFra+tO3LH1KASmezTh3CkCSB0arH2fBecv45WM2eSR5or+MRznfNk9aTTj3ntfjNdThdtmoWt6ziABSseO+5JX5GmTVPB9OiCxQp44qSOvLoz1Q6lCGpFrjCtPNU2h3y1j3tPvHoT7zdzBaqGuoygqJT4SDi78/elEQTxEV2hkgDedOG1mzNn8muHD3AoRVGSH82cCrQiCK2tI44dPb6NQwHotmn6YMaxx2MXS0EEHptuzMxsSQORSkR8rQtLsUtBiU43ePLJzEnOWR+y/jBNmylabS+ntmeeB4hC4wzV4oNEk5AmVb66wuPVzAscnvPFh20fhkoVMMSPBBoRcPTkwcyZ/OwH1+lSoCjT9KHkmghFCWKXaWfmbKwcl9BemjkVRE78OgguOpTe1pYSxDVffbWcMSPXKQpM3bvAambmSFMFWoNuSWeOYYcSiRaHiVszpzmfzw+aPkyRSGyv2Zl5HqAJsD4D8XbbqGpF7w6L1czpnhyW29ooUdSQvgUo4NC5xWrmGx1uL8ke9VQ3bFlZHH1EDwSBEnRxc+ZM0geCwGT21szpHgNaL+ro8S3xUAK0bzj3yvUZ47XrWAoSWOGuF5RQQkMdG8k7aRtaSUwfz5yF9mOBqgo/Cp4HTGkrqYXRmRfh3GXtmwENTPrRzFksjJ9WJQhJuoVLgggYXTlr58ZNUzFoSVaO7Dsu45p6ACgluayu4ZYzVRKEkaUz1RIU6vkuOvSFD+lPJETorvXigO5KqGpDb1hYeaqt9bmWThpVSY48W3S7EdBi/Bni06khw9SoIBgkKgjJNihJlKUTStC0RGGKU1p47Y0ppRVpNaxXztgWJtEitM2gbwClLTkkvtFnP3yfvgMUmKYbzq1XM2a2vvhEp1u0IpIZ5Lov18uZU8VD0FacvUAJRuKkXv3invaAAlSmfemSkkasLOzPPANtAUVt8Yy2SwUE6ZutZZIlliMzZnkr6ZIuw5JZuz1DtRNeoFVN4kw90UsKVBMpX61mzuLIOlKUFjUkkRJEmHyjRz9YSvcQgRIrW/ZnnjGObohHFAVi2ytbd2ZONU0VRChnLyJAkRJf094QKBrHBW112pv5Gt98TCMOg7SNgmi1TZUSpPFUqcYsAUlElvH1DRK0nOlTGAIpRfOKH74xcxYcgYRIgy2KAOpMjfV16/GWlCqhveqkLhwd+u0LH9I7QBGandkHuO1FDbRQSdQZa0EaTWmc1MXHB3779QOxoyqiUDI+tnDXCR09aRbSEpFo6/m6klxuG02Z/t1J7tBM1nSBCcN6xnHFoEdiYV0WfOaEqiJIVdamOKXhqwft+UoRpV/28Zt46EydpwXVVGxJV9olSGiWTuu3Ln6gdilCRLpv0QMv6oe/se/RD96X7khoCZo9T8ZHWDmpkcvWiGhLH/mmLuBJogBFvLCur7L4VBLtU4M63/6Ctqw7WSSiZsRzpVa0MlKSjj9kwV1qAY4cd85364nfj5Y0Gqy/4fHnVltoG1KaYbGDB75NiVSRoVao42JpOvrRzNc8emVJbwmiAlbavZlTbeUqPaTEsW1bvTNzovayACIyfTpzKtAKIOK0Lj5ekfckN8Tfw7QnvWphNXOip0qnOqG16SNJHJdeIm8TPzeJSLWCWLwx8yKvenJIPwmlSBvvzJxFbL2foCUiDMmBNIJAa2ztzTzjN19fOjfu03qm3rDow5lT/eBwhT2gBYq+TW9Sz/j81V2x1KkUGNPHM6eCCEgBR6e7eHjPxZ/t+eFs+2c3vPm/78+8yJFFQqlGhtZzbTk6oIcUBTXtP/ab2zPf5ImL7z/22nLmRdIeThpAw+XgNPQjRIQmtdO6NnOao77xfnVXC7SCYfgYBApR75rGHdPibV/Nvjx33Sv5qViKUCJM+8b/zZn82me3pQciWoKIKR+Y9+do7Hh8fsdXF64b65uUkQjSleSBs/8kmrZSv0dqzaq0Tq69pQRthbfOu3ifC8uZk21vj/H73Zxin8WdmReZ9JOESGmi70zWy5kXOXJ0S3ymQFXkJq55QZPXP6j1fpVEArST/Gf+dX/k3/Tn3tfsPP03NE+9XCemQWdr1REN01gZix089G36H95YGuO+KcunXtJTTUwDs3Voakpm1RFxFfu+qcMfLh2NTzUcH/O6vxsHfk4d/ffLnUXcJ3qsufL8Pn6L7Vdz4SetHUaJChmm9u5k8VE4hNh6q8PlaRq7jDdKZGhzCx86oSde2WXcIWRoRyceDjmYjIO1ZLA9cYh9gDr/QS1ulhDNoFFjRQ7WfLyQThaXsduM7TaeOv4SU5NBWBwdf31SQCkRxykBtCsdV6z7cOZb+f0OV3hPHFIgggo6EWgEQbqi+9Q3Q0BBElv8PG05QmnrlC5y2LqKlUg1VDWR90f8JMl9Gfeb7reuhTekgVTpu2xtzzzvnPU9spJoCxLLKXbDnaF3KjdjvD1zbDi6Te8GSRop0CXdXSR3yr70g+q2KkUPQJvOokbUf/EP/esrI9ekoahnSgGNMa0s1u8593g18538gf/jA+kVunJchEIpgcJDeoU6G2hFaAVH6czPDdI5AqFe0JbHK1xJe09ATvw5UlN1HGEy/ZN8/mMeHc6c4PCcxbtMh8AUraBpIOqkFr66Wr2taCMkgCqozKHBjS1jL6FASQdB/Bf/yL9813pxCQdGIhwDKXHP6BULD2Z+R/6QeYhy7ophX1qKPj9IB+oKVr5NSSgRsNXM/NxIG0laigZOG6KFL96bOl2VPBgUIihVaaD6SHur7RV6jVcOZ17ss0/WXfw4HAiRaqmCU4f7q2tr/YuqK60ZqAZC5w5qfYWjPUCDEJr85/51z/dHXHtnaeo7LN40jZry0PnFPRz6PdF/tlx64rLOpgErj88fYOX/hz3+9/6s5RNHl2PrsoEprTwcFg+eeLLC4Xda1++7HHp5srjM6OzhkWl1ZOvBN6/5+mXMspwwjBXjAWYv7v8Et4Nz+w5xmR4AAAAASUVORK5CYII=']"
      ]
     },
     "execution_count": 85,
     "metadata": {},
     "output_type": "execute_result"
    }
   ],
   "source": [
    "images[:1]"
   ]
  },
  {
   "cell_type": "markdown",
   "metadata": {},
   "source": [
    "## Save images to computer\n",
    "\n",
    "First we'll create a new folder for our images somewhere on our computer.\n",
    "<br>\n",
    "Then, we'll save all the images there."
   ]
  },
  {
   "cell_type": "code",
   "execution_count": 83,
   "metadata": {},
   "outputs": [
    {
     "data": {
      "text/plain": [
       "'C:\\\\Users\\\\Victor\\\\Documents\\\\GitHub\\\\tests\\\\cats'"
      ]
     },
     "execution_count": 83,
     "metadata": {},
     "output_type": "execute_result"
    }
   ],
   "source": [
    "import os\n",
    "import wget\n",
    "\n",
    "path = os.getcwd()\n",
    "path = os.path.join(path, keyword)\n",
    "\n",
    "#create the directory\n",
    "os.mkdir(path)\n",
    "\n",
    "path"
   ]
  },
  {
   "cell_type": "code",
   "execution_count": 84,
   "metadata": {},
   "outputs": [
    {
     "ename": "ValueError",
     "evalue": "not enough values to unpack (expected 2, got 1)",
     "output_type": "error",
     "traceback": [
      "\u001b[1;31m---------------------------------------------------------------------------\u001b[0m",
      "\u001b[1;31mValueError\u001b[0m                                Traceback (most recent call last)",
      "\u001b[1;32m~\\AppData\\Local\\Temp\\ipykernel_11512\\3824195237.py\u001b[0m in \u001b[0;36m<module>\u001b[1;34m\u001b[0m\n\u001b[0;32m      3\u001b[0m \u001b[1;32mfor\u001b[0m \u001b[0mimage\u001b[0m \u001b[1;32min\u001b[0m \u001b[0mimages\u001b[0m\u001b[1;33m:\u001b[0m\u001b[1;33m\u001b[0m\u001b[1;33m\u001b[0m\u001b[0m\n\u001b[0;32m      4\u001b[0m     \u001b[0msave_as\u001b[0m \u001b[1;33m=\u001b[0m \u001b[0mos\u001b[0m\u001b[1;33m.\u001b[0m\u001b[0mpath\u001b[0m\u001b[1;33m.\u001b[0m\u001b[0mjoin\u001b[0m\u001b[1;33m(\u001b[0m\u001b[0mpath\u001b[0m\u001b[1;33m,\u001b[0m \u001b[0mkeyword\u001b[0m\u001b[1;33m[\u001b[0m\u001b[1;36m1\u001b[0m\u001b[1;33m:\u001b[0m\u001b[1;33m]\u001b[0m \u001b[1;33m+\u001b[0m \u001b[0mstr\u001b[0m\u001b[1;33m(\u001b[0m\u001b[0mcounter\u001b[0m\u001b[1;33m)\u001b[0m \u001b[1;33m+\u001b[0m \u001b[1;34m'.jpg'\u001b[0m\u001b[1;33m)\u001b[0m\u001b[1;33m\u001b[0m\u001b[1;33m\u001b[0m\u001b[0m\n\u001b[1;32m----> 5\u001b[1;33m     \u001b[0mwget\u001b[0m\u001b[1;33m.\u001b[0m\u001b[0mdownload\u001b[0m\u001b[1;33m(\u001b[0m\u001b[0mimage\u001b[0m\u001b[1;33m,\u001b[0m \u001b[0msave_as\u001b[0m\u001b[1;33m)\u001b[0m\u001b[1;33m\u001b[0m\u001b[1;33m\u001b[0m\u001b[0m\n\u001b[0m\u001b[0;32m      6\u001b[0m     \u001b[0mcounter\u001b[0m \u001b[1;33m+=\u001b[0m \u001b[1;36m1\u001b[0m\u001b[1;33m\u001b[0m\u001b[1;33m\u001b[0m\u001b[0m\n",
      "\u001b[1;32m~\\anaconda3\\lib\\site-packages\\wget.py\u001b[0m in \u001b[0;36mdownload\u001b[1;34m(url, out, bar)\u001b[0m\n\u001b[0;32m    524\u001b[0m     \u001b[1;32melse\u001b[0m\u001b[1;33m:\u001b[0m\u001b[1;33m\u001b[0m\u001b[1;33m\u001b[0m\u001b[0m\n\u001b[0;32m    525\u001b[0m         \u001b[0mbinurl\u001b[0m \u001b[1;33m=\u001b[0m \u001b[0murl\u001b[0m\u001b[1;33m\u001b[0m\u001b[1;33m\u001b[0m\u001b[0m\n\u001b[1;32m--> 526\u001b[1;33m     \u001b[1;33m(\u001b[0m\u001b[0mtmpfile\u001b[0m\u001b[1;33m,\u001b[0m \u001b[0mheaders\u001b[0m\u001b[1;33m)\u001b[0m \u001b[1;33m=\u001b[0m \u001b[0mulib\u001b[0m\u001b[1;33m.\u001b[0m\u001b[0murlretrieve\u001b[0m\u001b[1;33m(\u001b[0m\u001b[0mbinurl\u001b[0m\u001b[1;33m,\u001b[0m \u001b[0mtmpfile\u001b[0m\u001b[1;33m,\u001b[0m \u001b[0mcallback\u001b[0m\u001b[1;33m)\u001b[0m\u001b[1;33m\u001b[0m\u001b[1;33m\u001b[0m\u001b[0m\n\u001b[0m\u001b[0;32m    527\u001b[0m     \u001b[0mfilename\u001b[0m \u001b[1;33m=\u001b[0m \u001b[0mdetect_filename\u001b[0m\u001b[1;33m(\u001b[0m\u001b[0murl\u001b[0m\u001b[1;33m,\u001b[0m \u001b[0mout\u001b[0m\u001b[1;33m,\u001b[0m \u001b[0mheaders\u001b[0m\u001b[1;33m)\u001b[0m\u001b[1;33m\u001b[0m\u001b[1;33m\u001b[0m\u001b[0m\n\u001b[0;32m    528\u001b[0m     \u001b[1;32mif\u001b[0m \u001b[0moutdir\u001b[0m\u001b[1;33m:\u001b[0m\u001b[1;33m\u001b[0m\u001b[1;33m\u001b[0m\u001b[0m\n",
      "\u001b[1;32m~\\anaconda3\\lib\\urllib\\request.py\u001b[0m in \u001b[0;36murlretrieve\u001b[1;34m(url, filename, reporthook, data)\u001b[0m\n\u001b[0;32m    237\u001b[0m     \u001b[0murl_type\u001b[0m\u001b[1;33m,\u001b[0m \u001b[0mpath\u001b[0m \u001b[1;33m=\u001b[0m \u001b[0m_splittype\u001b[0m\u001b[1;33m(\u001b[0m\u001b[0murl\u001b[0m\u001b[1;33m)\u001b[0m\u001b[1;33m\u001b[0m\u001b[1;33m\u001b[0m\u001b[0m\n\u001b[0;32m    238\u001b[0m \u001b[1;33m\u001b[0m\u001b[0m\n\u001b[1;32m--> 239\u001b[1;33m     \u001b[1;32mwith\u001b[0m \u001b[0mcontextlib\u001b[0m\u001b[1;33m.\u001b[0m\u001b[0mclosing\u001b[0m\u001b[1;33m(\u001b[0m\u001b[0murlopen\u001b[0m\u001b[1;33m(\u001b[0m\u001b[0murl\u001b[0m\u001b[1;33m,\u001b[0m \u001b[0mdata\u001b[0m\u001b[1;33m)\u001b[0m\u001b[1;33m)\u001b[0m \u001b[1;32mas\u001b[0m \u001b[0mfp\u001b[0m\u001b[1;33m:\u001b[0m\u001b[1;33m\u001b[0m\u001b[1;33m\u001b[0m\u001b[0m\n\u001b[0m\u001b[0;32m    240\u001b[0m         \u001b[0mheaders\u001b[0m \u001b[1;33m=\u001b[0m \u001b[0mfp\u001b[0m\u001b[1;33m.\u001b[0m\u001b[0minfo\u001b[0m\u001b[1;33m(\u001b[0m\u001b[1;33m)\u001b[0m\u001b[1;33m\u001b[0m\u001b[1;33m\u001b[0m\u001b[0m\n\u001b[0;32m    241\u001b[0m \u001b[1;33m\u001b[0m\u001b[0m\n",
      "\u001b[1;32m~\\anaconda3\\lib\\urllib\\request.py\u001b[0m in \u001b[0;36murlopen\u001b[1;34m(url, data, timeout, cafile, capath, cadefault, context)\u001b[0m\n\u001b[0;32m    212\u001b[0m     \u001b[1;32melse\u001b[0m\u001b[1;33m:\u001b[0m\u001b[1;33m\u001b[0m\u001b[1;33m\u001b[0m\u001b[0m\n\u001b[0;32m    213\u001b[0m         \u001b[0mopener\u001b[0m \u001b[1;33m=\u001b[0m \u001b[0m_opener\u001b[0m\u001b[1;33m\u001b[0m\u001b[1;33m\u001b[0m\u001b[0m\n\u001b[1;32m--> 214\u001b[1;33m     \u001b[1;32mreturn\u001b[0m \u001b[0mopener\u001b[0m\u001b[1;33m.\u001b[0m\u001b[0mopen\u001b[0m\u001b[1;33m(\u001b[0m\u001b[0murl\u001b[0m\u001b[1;33m,\u001b[0m \u001b[0mdata\u001b[0m\u001b[1;33m,\u001b[0m \u001b[0mtimeout\u001b[0m\u001b[1;33m)\u001b[0m\u001b[1;33m\u001b[0m\u001b[1;33m\u001b[0m\u001b[0m\n\u001b[0m\u001b[0;32m    215\u001b[0m \u001b[1;33m\u001b[0m\u001b[0m\n\u001b[0;32m    216\u001b[0m \u001b[1;32mdef\u001b[0m \u001b[0minstall_opener\u001b[0m\u001b[1;33m(\u001b[0m\u001b[0mopener\u001b[0m\u001b[1;33m)\u001b[0m\u001b[1;33m:\u001b[0m\u001b[1;33m\u001b[0m\u001b[1;33m\u001b[0m\u001b[0m\n",
      "\u001b[1;32m~\\anaconda3\\lib\\urllib\\request.py\u001b[0m in \u001b[0;36mopen\u001b[1;34m(self, fullurl, data, timeout)\u001b[0m\n\u001b[0;32m    515\u001b[0m \u001b[1;33m\u001b[0m\u001b[0m\n\u001b[0;32m    516\u001b[0m         \u001b[0msys\u001b[0m\u001b[1;33m.\u001b[0m\u001b[0maudit\u001b[0m\u001b[1;33m(\u001b[0m\u001b[1;34m'urllib.Request'\u001b[0m\u001b[1;33m,\u001b[0m \u001b[0mreq\u001b[0m\u001b[1;33m.\u001b[0m\u001b[0mfull_url\u001b[0m\u001b[1;33m,\u001b[0m \u001b[0mreq\u001b[0m\u001b[1;33m.\u001b[0m\u001b[0mdata\u001b[0m\u001b[1;33m,\u001b[0m \u001b[0mreq\u001b[0m\u001b[1;33m.\u001b[0m\u001b[0mheaders\u001b[0m\u001b[1;33m,\u001b[0m \u001b[0mreq\u001b[0m\u001b[1;33m.\u001b[0m\u001b[0mget_method\u001b[0m\u001b[1;33m(\u001b[0m\u001b[1;33m)\u001b[0m\u001b[1;33m)\u001b[0m\u001b[1;33m\u001b[0m\u001b[1;33m\u001b[0m\u001b[0m\n\u001b[1;32m--> 517\u001b[1;33m         \u001b[0mresponse\u001b[0m \u001b[1;33m=\u001b[0m \u001b[0mself\u001b[0m\u001b[1;33m.\u001b[0m\u001b[0m_open\u001b[0m\u001b[1;33m(\u001b[0m\u001b[0mreq\u001b[0m\u001b[1;33m,\u001b[0m \u001b[0mdata\u001b[0m\u001b[1;33m)\u001b[0m\u001b[1;33m\u001b[0m\u001b[1;33m\u001b[0m\u001b[0m\n\u001b[0m\u001b[0;32m    518\u001b[0m \u001b[1;33m\u001b[0m\u001b[0m\n\u001b[0;32m    519\u001b[0m         \u001b[1;31m# post-process response\u001b[0m\u001b[1;33m\u001b[0m\u001b[1;33m\u001b[0m\u001b[0m\n",
      "\u001b[1;32m~\\anaconda3\\lib\\urllib\\request.py\u001b[0m in \u001b[0;36m_open\u001b[1;34m(self, req, data)\u001b[0m\n\u001b[0;32m    532\u001b[0m \u001b[1;33m\u001b[0m\u001b[0m\n\u001b[0;32m    533\u001b[0m         \u001b[0mprotocol\u001b[0m \u001b[1;33m=\u001b[0m \u001b[0mreq\u001b[0m\u001b[1;33m.\u001b[0m\u001b[0mtype\u001b[0m\u001b[1;33m\u001b[0m\u001b[1;33m\u001b[0m\u001b[0m\n\u001b[1;32m--> 534\u001b[1;33m         result = self._call_chain(self.handle_open, protocol, protocol +\n\u001b[0m\u001b[0;32m    535\u001b[0m                                   '_open', req)\n\u001b[0;32m    536\u001b[0m         \u001b[1;32mif\u001b[0m \u001b[0mresult\u001b[0m\u001b[1;33m:\u001b[0m\u001b[1;33m\u001b[0m\u001b[1;33m\u001b[0m\u001b[0m\n",
      "\u001b[1;32m~\\anaconda3\\lib\\urllib\\request.py\u001b[0m in \u001b[0;36m_call_chain\u001b[1;34m(self, chain, kind, meth_name, *args)\u001b[0m\n\u001b[0;32m    492\u001b[0m         \u001b[1;32mfor\u001b[0m \u001b[0mhandler\u001b[0m \u001b[1;32min\u001b[0m \u001b[0mhandlers\u001b[0m\u001b[1;33m:\u001b[0m\u001b[1;33m\u001b[0m\u001b[1;33m\u001b[0m\u001b[0m\n\u001b[0;32m    493\u001b[0m             \u001b[0mfunc\u001b[0m \u001b[1;33m=\u001b[0m \u001b[0mgetattr\u001b[0m\u001b[1;33m(\u001b[0m\u001b[0mhandler\u001b[0m\u001b[1;33m,\u001b[0m \u001b[0mmeth_name\u001b[0m\u001b[1;33m)\u001b[0m\u001b[1;33m\u001b[0m\u001b[1;33m\u001b[0m\u001b[0m\n\u001b[1;32m--> 494\u001b[1;33m             \u001b[0mresult\u001b[0m \u001b[1;33m=\u001b[0m \u001b[0mfunc\u001b[0m\u001b[1;33m(\u001b[0m\u001b[1;33m*\u001b[0m\u001b[0margs\u001b[0m\u001b[1;33m)\u001b[0m\u001b[1;33m\u001b[0m\u001b[1;33m\u001b[0m\u001b[0m\n\u001b[0m\u001b[0;32m    495\u001b[0m             \u001b[1;32mif\u001b[0m \u001b[0mresult\u001b[0m \u001b[1;32mis\u001b[0m \u001b[1;32mnot\u001b[0m \u001b[1;32mNone\u001b[0m\u001b[1;33m:\u001b[0m\u001b[1;33m\u001b[0m\u001b[1;33m\u001b[0m\u001b[0m\n\u001b[0;32m    496\u001b[0m                 \u001b[1;32mreturn\u001b[0m \u001b[0mresult\u001b[0m\u001b[1;33m\u001b[0m\u001b[1;33m\u001b[0m\u001b[0m\n",
      "\u001b[1;32m~\\anaconda3\\lib\\urllib\\request.py\u001b[0m in \u001b[0;36mdata_open\u001b[1;34m(self, req)\u001b[0m\n\u001b[0;32m   1652\u001b[0m \u001b[1;33m\u001b[0m\u001b[0m\n\u001b[0;32m   1653\u001b[0m         \u001b[0mscheme\u001b[0m\u001b[1;33m,\u001b[0m \u001b[0mdata\u001b[0m \u001b[1;33m=\u001b[0m \u001b[0murl\u001b[0m\u001b[1;33m.\u001b[0m\u001b[0msplit\u001b[0m\u001b[1;33m(\u001b[0m\u001b[1;34m\":\"\u001b[0m\u001b[1;33m,\u001b[0m\u001b[1;36m1\u001b[0m\u001b[1;33m)\u001b[0m\u001b[1;33m\u001b[0m\u001b[1;33m\u001b[0m\u001b[0m\n\u001b[1;32m-> 1654\u001b[1;33m         \u001b[0mmediatype\u001b[0m\u001b[1;33m,\u001b[0m \u001b[0mdata\u001b[0m \u001b[1;33m=\u001b[0m \u001b[0mdata\u001b[0m\u001b[1;33m.\u001b[0m\u001b[0msplit\u001b[0m\u001b[1;33m(\u001b[0m\u001b[1;34m\",\"\u001b[0m\u001b[1;33m,\u001b[0m\u001b[1;36m1\u001b[0m\u001b[1;33m)\u001b[0m\u001b[1;33m\u001b[0m\u001b[1;33m\u001b[0m\u001b[0m\n\u001b[0m\u001b[0;32m   1655\u001b[0m \u001b[1;33m\u001b[0m\u001b[0m\n\u001b[0;32m   1656\u001b[0m         \u001b[1;31m# even base64 encoded data URLs might be quoted so unquote in any case:\u001b[0m\u001b[1;33m\u001b[0m\u001b[1;33m\u001b[0m\u001b[0m\n",
      "\u001b[1;31mValueError\u001b[0m: not enough values to unpack (expected 2, got 1)"
     ]
    }
   ],
   "source": [
    "#download images\n",
    "counter = 0\n",
    "for image in images:\n",
    "    save_as = os.path.join(path, keyword[1:] + str(counter) + '.jpg')\n",
    "    wget.download(image, save_as)\n",
    "    counter += 1"
   ]
  },
  {
   "cell_type": "code",
   "execution_count": 86,
   "metadata": {},
   "outputs": [],
   "source": [
    "from datetime import datetime\n",
    "from tqdm import tqdm\n",
    "import requests\n",
    "import re\n",
    "import sys"
   ]
  },
  {
   "cell_type": "code",
   "execution_count": 89,
   "metadata": {},
   "outputs": [
    {
     "name": "stdout",
     "output_type": "stream",
     "text": [
      "\n",
      "Downloading the image...\n"
     ]
    },
    {
     "name": "stderr",
     "output_type": "stream",
     "text": [
      "2023-11-06-17-42-51: 100%|##########| 12.0/12.0 [00:00<00:00, 6.01kB/s]"
     ]
    },
    {
     "name": "stdout",
     "output_type": "stream",
     "text": [
      "Image downloaded successfully\n"
     ]
    },
    {
     "name": "stderr",
     "output_type": "stream",
     "text": [
      "\n"
     ]
    }
   ],
   "source": [
    "url = \"https://www.instagram.com/p/CzTqL6wrHRR/\"\n",
    "   \n",
    "\n",
    "\n",
    "\n",
    "request_image = requests.get(url)\n",
    "src = request_image.content.decode('utf-8')\n",
    "check_type = re.search(r'<meta name=\"medium\" content=[\\'\"]?([^\\'\" >]+)', src)\n",
    "check_type_f = check_type.group()\n",
    "final = re.sub('<meta name=\"medium\" content=\"', '', check_type_f)\n",
    "\n",
    "if final == \"image\":\n",
    "    print(\"\\nDownloading the image...\")\n",
    "    extract_image_link = re.search(r'meta property=\"og:image\" content=[\\'\"]?([^\\'\" >]+)', src)\n",
    "    image_link = extract_image_link.group()\n",
    "    final = re.sub('meta property=\"og:image\" content=\"', '', image_link)\n",
    "    _response = requests.get(final).content\n",
    "    file_size_request = requests.get(final, stream=True)\n",
    "    file_size = int(file_size_request.headers['Content-Length'])\n",
    "    block_size = 1024 \n",
    "    filename = datetime.strftime(datetime.now(), '%Y-%m-%d-%H-%M-%S')\n",
    "    t=tqdm(total=file_size, unit='B', unit_scale=True, desc=filename, ascii=True)\n",
    "    with open(filename + '.jpg', 'wb') as f:\n",
    "        for data in file_size_request.iter_content(block_size):\n",
    "            t.update(len(data))\n",
    "            f.write(data)\n",
    "    t.close()\n",
    "    print(\"Image downloaded successfully\")\n",
    "\n",
    "if final == \"video\": \n",
    "    msg = input(\"You are trying to download a video. Do you want to continue? (Yes or No): \".lower())\n",
    "\n",
    "    if msg == \"yes\":\n",
    "        print(\"Downloading the video...\")\n",
    "        extract_video_link = re.search(r'meta property=\"og:video\" content=[\\'\"]?([^\\'\" >]+)', src)\n",
    "        video_link = extract_video_link.group()\n",
    "        final = re.sub('meta property=\"og:video\" content=\"', '', video_link)\n",
    "        _response = requests.get(final).content\n",
    "        file_size_request = requests.get(final, stream=True)\n",
    "        file_size = int(file_size_request.headers['Content-Length'])\n",
    "        block_size = 1024 \n",
    "        filename = datetime.strftime(datetime.now(), '%Y-%m-%d-%H-%M-%S')\n",
    "        t=tqdm(total=file_size, unit='B', unit_scale=True, desc=filename, ascii=True)\n",
    "        with open(filename + '.mp4', 'wb') as f:\n",
    "            for data in file_size_request.iter_content(block_size):\n",
    "                t.update(len(data))\n",
    "                f.write(data)\n",
    "        t.close()\n",
    "        print(\"Video downloaded successfully\")\n",
    "\n",
    "    if msg == \"no\":\n",
    "        exit()  "
   ]
  },
  {
   "cell_type": "code",
   "execution_count": 92,
   "metadata": {},
   "outputs": [
    {
     "name": "stderr",
     "output_type": "stream",
     "text": [
      "C:\\Users\\Victor\\AppData\\Local\\Temp\\ipykernel_11512\\2310410123.py:2: DeprecationWarning: find_element_by_xpath is deprecated. Please use find_element(by=By.XPATH, value=xpath) instead\n",
      "  img_element = driver.find_element_by_xpath('//img[@class=\"x5yr21d xu96u03 x10l6tqk x13vifvy x87ps6o xh8yej3\"]')\n"
     ]
    }
   ],
   "source": [
    "# Find the img element by its attributes\n",
    "img_element = driver.find_element_by_xpath('//img[@class=\"x5yr21d xu96u03 x10l6tqk x13vifvy x87ps6o xh8yej3\"]')\n",
    "\n",
    "# Extract the URL from the src attribute\n",
    "img_url = img_element.get_attribute(\"src\")"
   ]
  },
  {
   "cell_type": "code",
   "execution_count": 93,
   "metadata": {},
   "outputs": [
    {
     "data": {
      "text/plain": [
       "'https://scontent.cdninstagram.com/v/t51.2885-15/399628369_1032444528020271_756075481047267405_n.jpg?stp=dst-jpg_e35&efg=eyJ2ZW5jb2RlX3RhZyI6ImltYWdlX3VybGdlbi4xNDQweDE4MDAuc2RyIn0&_nc_ht=scontent.cdninstagram.com&_nc_cat=1&_nc_ohc=mdvnMFChblwAX_n-MXm&edm=APs17CUBAAAA&ccb=7-5&ig_cache_key=MzIyOTg1MTE3NzQzOTkzMzU5OA%3D%3D.2-ccb7-5&oh=00_AfDhoi7QBCXVOJD59gtkBpWGnUfR1-oF-VTLIISyyFrK3g&oe=654EB954&_nc_sid=10d13b'"
      ]
     },
     "execution_count": 93,
     "metadata": {},
     "output_type": "execute_result"
    }
   ],
   "source": [
    "img_url"
   ]
  },
  {
   "cell_type": "code",
   "execution_count": 100,
   "metadata": {},
   "outputs": [
    {
     "name": "stdout",
     "output_type": "stream",
     "text": [
      "Image 1 downloaded successfully as 'downloaded_image_1.jpg'\n",
      "Image 2 downloaded successfully as 'downloaded_image_2.jpg'\n",
      "Image 3 downloaded successfully as 'downloaded_image_3.jpg'\n",
      "Image 4 downloaded successfully as 'downloaded_image_4.jpg'\n",
      "Image 5 downloaded successfully as 'downloaded_image_5.jpg'\n",
      "Image 6 downloaded successfully as 'downloaded_image_6.jpg'\n",
      "Image 7 downloaded successfully as 'downloaded_image_7.jpg'\n",
      "Image 8 downloaded successfully as 'downloaded_image_8.jpg'\n",
      "Image 9 downloaded successfully as 'downloaded_image_9.jpg'\n",
      "Image 10 downloaded successfully as 'downloaded_image_10.jpg'\n",
      "Image 11 downloaded successfully as 'downloaded_image_11.jpg'\n",
      "Image 12 downloaded successfully as 'downloaded_image_12.jpg'\n",
      "Image 13 downloaded successfully as 'downloaded_image_13.jpg'\n",
      "Image 14 downloaded successfully as 'downloaded_image_14.jpg'\n",
      "Image 15 downloaded successfully as 'downloaded_image_15.jpg'\n",
      "Image 16 downloaded successfully as 'downloaded_image_16.jpg'\n",
      "Image 17 downloaded successfully as 'downloaded_image_17.jpg'\n",
      "Image 18 downloaded successfully as 'downloaded_image_18.jpg'\n",
      "Image 19 downloaded successfully as 'downloaded_image_19.jpg'\n",
      "Image 20 downloaded successfully as 'downloaded_image_20.jpg'\n",
      "Image 21 downloaded successfully as 'downloaded_image_21.jpg'\n",
      "Image 22 downloaded successfully as 'downloaded_image_22.jpg'\n",
      "Image 23 downloaded successfully as 'downloaded_image_23.jpg'\n",
      "Image 24 downloaded successfully as 'downloaded_image_24.jpg'\n",
      "Image 25 downloaded successfully as 'downloaded_image_25.jpg'\n",
      "Image 26 downloaded successfully as 'downloaded_image_26.jpg'\n",
      "Image 27 downloaded successfully as 'downloaded_image_27.jpg'\n",
      "Image 28 downloaded successfully as 'downloaded_image_28.jpg'\n",
      "Image 29 downloaded successfully as 'downloaded_image_29.jpg'\n",
      "Image 30 downloaded successfully as 'downloaded_image_30.jpg'\n",
      "Image 31 downloaded successfully as 'downloaded_image_31.jpg'\n",
      "Image 32 downloaded successfully as 'downloaded_image_32.jpg'\n",
      "Image 33 downloaded successfully as 'downloaded_image_33.jpg'\n",
      "Image 34 downloaded successfully as 'downloaded_image_34.jpg'\n",
      "Image 35 downloaded successfully as 'downloaded_image_35.jpg'\n",
      "Image 36 downloaded successfully as 'downloaded_image_36.jpg'\n",
      "Image 37 downloaded successfully as 'downloaded_image_37.jpg'\n",
      "Image 38 downloaded successfully as 'downloaded_image_38.jpg'\n",
      "Image 39 downloaded successfully as 'downloaded_image_39.jpg'\n",
      "Image 40 downloaded successfully as 'downloaded_image_40.jpg'\n",
      "Image 41 downloaded successfully as 'downloaded_image_41.jpg'\n",
      "Image 42 downloaded successfully as 'downloaded_image_42.jpg'\n",
      "Image 43 downloaded successfully as 'downloaded_image_43.jpg'\n",
      "Image 44 downloaded successfully as 'downloaded_image_44.jpg'\n",
      "Image 45 downloaded successfully as 'downloaded_image_45.jpg'\n"
     ]
    }
   ],
   "source": [
    "# Loop through the list of image URLs with an index (counter)\n",
    "for index, image in enumerate(images, 1):\n",
    "    response = requests.get(image)\n",
    "    if response.status_code == 200:\n",
    "        # Save the image to a file with a unique filename based on the index\n",
    "        with open(f\"downloaded_image_{index}.jpg\", \"wb\") as file:\n",
    "            file.write(response.content)\n",
    "        print(f\"Image {index} downloaded successfully as 'downloaded_image_{index}.jpg'\")\n",
    "    else:\n",
    "        print(f\"Failed to download image {index}\")"
   ]
  },
  {
   "cell_type": "code",
   "execution_count": 109,
   "metadata": {},
   "outputs": [
    {
     "name": "stderr",
     "output_type": "stream",
     "text": [
      "C:\\Users\\Victor\\AppData\\Local\\Temp\\ipykernel_11512\\3440634550.py:13: DeprecationWarning: find_element_by_xpath is deprecated. Please use find_element(by=By.XPATH, value=xpath) instead\n",
      "  img_element = driver.find_element_by_xpath('//img[@class=\"x5yr21d xu96u03 x10l6tqk x13vifvy x87ps6o xh8yej3\"]')\n"
     ]
    },
    {
     "name": "stdout",
     "output_type": "stream",
     "text": [
      "Image downloaded successfully as 'bubi_image1.jpg'\n",
      "Image downloaded successfully as 'bubi_image2.jpg'\n",
      "Image downloaded successfully as 'bubi_image3.jpg'\n",
      "Image downloaded successfully as 'bubi_image4.jpg'\n",
      "Image downloaded successfully as 'bubi_image5.jpg'\n",
      "Image downloaded successfully as 'bubi_image6.jpg'\n",
      "Image downloaded successfully as 'bubi_image7.jpg'\n",
      "Image downloaded successfully as 'bubi_image8.jpg'\n",
      "Image downloaded successfully as 'bubi_image9.jpg'\n",
      "Image downloaded successfully as 'bubi_image10.jpg'\n",
      "Image downloaded successfully as 'bubi_image11.jpg'\n",
      "Image downloaded successfully as 'bubi_image12.jpg'\n",
      "Image downloaded successfully as 'bubi_image13.jpg'\n",
      "Image downloaded successfully as 'bubi_image14.jpg'\n"
     ]
    }
   ],
   "source": [
    "urls = [\"https://www.instagram.com/p/CvnTUgjo7oO/?img_index=1\", \"https://www.instagram.com/p/CvnTUgjo7oO/?img_index=2\", \n",
    "        \"https://www.instagram.com/p/CvnTUgjo7oO/?img_index=3\", \"https://www.instagram.com/p/CvnTUgjo7oO/?img_index=4\", \n",
    "        \"https://www.instagram.com/p/CvnTUgjo7oO/?img_index=5\", \"https://www.instagram.com/p/CvhnZFkI8mI/\", \n",
    "        \"https://www.instagram.com/p/CjaTsG_tPeK/?img_index=5\", \"https://www.instagram.com/p/CjaTsG_tPeK/?img_index=1\",\n",
    "        \"https://www.instagram.com/p/CiIymraNbW_/?img_index=1\", \"https://www.instagram.com/p/CiIymraNbW_/?img_index=2\", \n",
    "        \"https://www.instagram.com/p/CiIymraNbW_/?img_index=3\", \"https://www.instagram.com/p/CiIymraNbW_/?img_index=4\", \n",
    "        \"https://www.instagram.com/p/CgAVKrvtOjT/?img_index=1\", \"https://www.instagram.com/p/CgAVKrvtOjT/?img_index=5\"] \n",
    "    \n",
    "for index, url in enumerate(urls, 1):\n",
    "    driver.get(url)\n",
    "    time.sleep(3)\n",
    "    # Find the img element by its attributes\n",
    "    img_element = driver.find_element_by_xpath('//img[@class=\"x5yr21d xu96u03 x10l6tqk x13vifvy x87ps6o xh8yej3\"]')\n",
    "\n",
    "    # Extract the URL from the src attribute\n",
    "    img_url = img_element.get_attribute(\"src\")\n",
    "\n",
    "    response = requests.get(img_url)\n",
    "    if response.status_code == 200:\n",
    "    # Save the image to a file with a unique filename based on the index\n",
    "        with open(f\"bubi_image{index}.jpg\", \"wb\") as file:\n",
    "            file.write(response.content)\n",
    "        print(f\"Image downloaded successfully as 'bubi_image{index}.jpg'\")\n",
    "    else:\n",
    "        print(f\"Failed to download image {index}\")"
   ]
  },
  {
   "cell_type": "code",
   "execution_count": null,
   "metadata": {},
   "outputs": [],
   "source": []
  }
 ],
 "metadata": {
  "kernelspec": {
   "display_name": "Python 3 (ipykernel)",
   "language": "python",
   "name": "python3"
  },
  "language_info": {
   "codemirror_mode": {
    "name": "ipython",
    "version": 3
   },
   "file_extension": ".py",
   "mimetype": "text/x-python",
   "name": "python",
   "nbconvert_exporter": "python",
   "pygments_lexer": "ipython3",
   "version": "3.9.13"
  }
 },
 "nbformat": 4,
 "nbformat_minor": 4
}
